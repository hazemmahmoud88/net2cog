{

 "metadata": {

  "name": "",

  "signature": "sha256:670a6b852c56591218d52f96971774165e652f5a12a740836a544fcec3541cc2"

 },

 "nbformat": 3,

 "nbformat_minor": 0,

 "worksheets": [

  {

   "cells": [

    {

     "cell_type": "heading",

     "level": 1,

     "metadata": {},

     "source": [

      "EASE Grid 2.0 via Python, pyproj, and gdal_translate"

     ]

    },

    {

     "cell_type": "heading",

     "level": 2,

     "metadata": {},

     "source": [

      "Prelude"

     ]

    },

    {

     "cell_type": "markdown",

     "metadata": {},

     "source": [

      "This page is necessary because a snow data product I was trying to use is not georeferencing in standard off the shelf tools:\n",

      "\n",

      "    [fedora@lugosi ~]$ gdalinfo NETCDF:nhtsw100e2_20030107_20030113.nc:merged_snow_cover_extent\n",

      "    Warning 1: dimension #2 (cols) is not a Longitude/X dimension.\n",

      "    Warning 1: dimension #1 (rows) is not a Latitude/Y dimension.\n",

      "    Driver: netCDF/Network Common Data Format\n",

      "    Files: nhtsw100e2_20030107_20030113.nc\n",

      "    Size is 180, 180\n",

      "    Coordinate System is `'\n",

      "\n",

      "Note that the coordinate system is empty and there are a couple of warnings. Turns out, the same thing fixes both problems. Long story short, the file is missing coordinate variables for the rows and cols dimensions. Now it seems obvious that this is what the warning messages were trying to tell me, but at the outset I was too dense to pick up on it. \n",

      "\n",

      "To experience the entire thread of discovery, and/or learn how to mess around with netCDF using Python, read on. If you just want to see how to fix it, skip ahead to the section \"So why isn't it working?\""

     ]

    },

    {

     "cell_type": "heading",

     "level": 2,

     "metadata": {},

     "source": [

      "Exploring the NetCDF file"

     ]

    },

    {

     "cell_type": "markdown",

     "metadata": {},

     "source": [

      "This section starts with the basics. Open the file, sniff around to see what's in there, and print out some key bits of information. The very first thing to do is to tell Python what libraries we're going to need. "

     ]

    },

    {

     "cell_type": "code",

     "collapsed": false,

     "input": [

      "import pyproj\n",

      "import netCDF4 as nc\n",

      "import os\n",

      "import numpy as np\n",

      "from mpl_toolkits.basemap import Basemap"

     ],

     "language": "python",

     "metadata": {},

     "outputs": [],

     "prompt_number": 1

    },

    {

     "cell_type": "markdown",

     "metadata": {},

     "source": [

      "Before opening this notebook, I grabbed an example data file from the National Snow and Ice Data Center. (ftp://sidads.colorado.edu/pub/DATASETS/nsidc0531_MEASURES_nhsnow_weekly100/2003/nhtsw100e2_20030107_20030113.nc) This file is supposed to be in what's known as EASE Grid 2.0 format. Unfortunately, no known GIS tools (commercial or open source) read the file. Our objective here is to come up with a method of converting the file to something that the tools can read.\n",

      "\n",

      "So the very first step is to change to the directory containing the file using os.chdir. It works much as you should expect. Give it the full path to where you want to be."

     ]

    },

    {

     "cell_type": "code",

     "collapsed": false,

     "input": [

      "os.chdir(\"C:\\\\Users\\\\bnordgren\\\\Documents\\\\Orchidee\\\\Snow\")"

     ],

     "language": "python",

     "metadata": {},

     "outputs": [],

     "prompt_number": 2

    },

    {

     "cell_type": "markdown",

     "metadata": {},

     "source": [

      "Now it's time to open the file. When we imported the NetCDF library above, we told python to associate it with the abbreviation \"nc\". To open the file, we need to use a function called \"Dataset\" in the netcdf library. All we need to do is tell it what filename we're interested in. This looks like the following:"

     ]

    },

    {

     "cell_type": "code",

     "collapsed": false,

     "input": [

      "d = nc.Dataset('nhtsw100e2_20030107_20030113.nc')"

     ],

     "language": "python",

     "metadata": {},

     "outputs": [],

     "prompt_number": 3

    },

    {

     "cell_type": "markdown",

     "metadata": {},

     "source": [

      "Now we have a variable \"d\" that we can use to access the contents of the netCDF file. The NetCDF library is pretty smart. It doesn't try to load the whole file into memory at this point, as many NetCDF files can be pretty large. You can use this \"d\" variable to look at the descriptive metadata, get a sense for the size of the grids, or eventually, ask for the actual data values. For the moment, let's just do the blindingly simple thing and \"print\" the variable to the terminal."

     ]

    },

    {

     "cell_type": "code",

     "collapsed": false,

     "input": [

      "print d"

     ],

     "language": "python",

     "metadata": {},

     "outputs": [

      {

       "output_type": "stream",

       "stream": "stdout",

       "text": [

        "<type 'netCDF4.Dataset'>\n",

        "root group (NETCDF4_CLASSIC data model, file format HDF5):\n",

        "    Conventions: CF-1.6\n",

        "    Metadata_Conventions: CF-1.6, Unidata Dataset Discovery v1.0, GDS v2.0\n",

        "    standard_name_vocabulary: CF Standard Name Table (v22, 12 February 2013)\n",

        "    id: nhtsw100e2_20030107_20030113.nc\n",

        "    naming_authority: gov.nasa.eosdis\n",

        "    reference: http://dx.doi.org/10.5067/MEASURES/CRYOSPHERE/nsidc-0531.001\n",

        "    metadata_link: http://nsidc.org/api/metadata?id=nsidc-0531\n",

        "    title: MEaSUREs Northern Hemisphere Terrestrial Snow Cover Extent Weekly 100km EASE-Grid 2.0\n",

        "    product_version: v01r00\n",

        "    summary: This NASA MEaSUREs Earth System Data Record (ESDR) merges daily Northern Hemisphere snow cover extents over land derived from two independently produced sources.  Variables include snow cover extent from the weekly NOAA/NCDC Northern Hemisphere Snow Cover Extent Climate Data Record (NH SCE CDR) and a gap-filled snow extent product derived from the Special Sensor Microwave/Imager (SSMI) and Special Sensor Microwave Imager/Sounder (SSMIS).  The NSIDC Land-Ocean-Coast-Ice (LOCI) mask derived from BU-MODIS land cover data is consistently applied to each variable.  Data are in a Northern Hemisphere equal area projection at 100 km resolution, and are contained in weekly netCDF files spanning from October 4, 1966 to December 31, 2012.\n",

        "    keywords: EARTH SCIENCE > CRYOSPHERE > SNOW/ICE > SNOW COVER, EARTH SCIENCE > TERRESTRIAL HYDROSPHERE > SNOW/ICE > SNOW COVER\n",

        "    keywords_vocabulary: NASA Global Change Master Directory (GCMD) Earth Science Keywords, Version 8.0\n",

        "    platform: NOAA POES (Polar Orbiting Environmental Satellites), DMSP (Defense Meteorological Satellite Program), GOES (Geostationary Operational Environmental Satellite), METEOSAT, GMS (Japan Geostationary Meteorological Satellite), METOP, TERRA > Earth Observing System TERRA (AM-1), AQUA > Earth Observing System AQUA\n",

        "    sensor: VISSR > Visible and Infrared Spin Scan Radiometer, VAS > VISSR Atmospheric Sounder, MODIS > Moderate-Resolution Imaging Spectroradiometer, AMSU-B > Advanced Microwave Sounding Unit-B, AMSR-E > Advanced Microwave Scanning Radiometer-EOS, SSMI > Special Sensor Microwave/Imager, SSMIS > Special Sensor Microwave Imager/Sounder, VIIRS > Visible-Infrared Imager-Radiometer Suite\n",

        "    cdm_data_type: Grid\n",

        "    source: ftp://data.ncdc.noaa.gov/cdr/snowcover/, ftp://sidads.colorado.edu/pub/DATASETS/nsidc0001_polar_stereo_tbs/\n",

        "    date_created: 2014-09-09T16:19:30Z\n",

        "    institution: Center for Environmental Prediction, Rutgers University\n",

        "    geospatial_lat_units: degrees_north\n",

        "    geospatial_lon_units: degrees_east\n",

        "    geospatial_lat_min: 0\n",

        "    geospatial_lat_max: 90\n",

        "    geospatial_lon_min: -180\n",

        "    geospatial_lon_max: 180\n",

        "    spatial_resolution: 100 km\n",

        "    time_coverage_start: 2003-01-07\n",

        "    time_coverage_end: 2003-01-13\n",

        "    license: No restrictions on access or use\n",

        "    dimensions(sizes): time(1), rows(180), cols(180)\n",

        "    variables(dimensions): int32 \u001b[4mtime\u001b[0m(time), float32 \u001b[4mlatitude\u001b[0m(rows,cols), float32 \u001b[4mlongitude\u001b[0m(rows,cols), int8 \u001b[4mmerged_snow_cover_extent\u001b[0m(time,rows,cols), int8 \u001b[4mweekly_climate_data_record_snow_cover_extent\u001b[0m(time,rows,cols), int8 \u001b[4mpassive_microwave_gap_filled_snow_cover_extent\u001b[0m(time,rows,cols), |S1 \u001b[4mcoord_system\u001b[0m()\n",

        "    groups: \n",

        "\n"

       ]

      }

     ],

     "prompt_number": 4

    },

    {

     "cell_type": "markdown",

     "metadata": {},

     "source": [

      "This simple command gives us a lot of information. This particular file has a lot of metadata, which is all printed out. Some files will have more and some will have less. For the moment, just notice that the \"Conventions\" attribute specifies \"CF-1.6\". That means that the rest of the attributes should be interpreted using the CF v1.6 specification found on http://cfconventions.org/. The real meat and potatoes of a NetCDF file are the \"dimensions\" and \"variables\". All useful NetCDF files will have dimensions and variables.\n",

      "\n",

      "Dimensions have a name and a size. We can see from the above that this file has three dimensions (time, rows, cols). The time dimension has a size of 1, while rows and cols both have a size of 180. Dimensions in and of themselves are not very interesting. They exist mainly to specify the shape of gridded data stored in Variables.\n",

      "\n",

      "Variables have a name, a data type, and zero or more dimensions. If a variable has zero dimensions (like \"coord_system\", above), it is a scalar and can only store one value. Otherwise, the dimensions specify the shape of the grid. The time variable has one dimension, also named time. Latitude and longitude have two dimensions (rows and cols), and everything else except \"coord_system\" has three dimensions (time, rows, cols).\n",

      "\n",

      "Starting simple, let's look at the \"time\" variable."

     ]

    },

    {

     "cell_type": "heading",

     "level": 2,

     "metadata": {},

     "source": [

      "Coordinate Variables"

     ]

    },

    {

     "cell_type": "code",

     "collapsed": false,

     "input": [

      "print d.variables['time']"

     ],

     "language": "python",

     "metadata": {},

     "outputs": [

      {

       "output_type": "stream",

       "stream": "stdout",

       "text": [

        "<type 'netCDF4.Variable'>\n",

        "int32 time(time)\n",

        "    calendar: gregorian\n",

        "    axis: T\n",

        "    units: days since 1966-10-03\n",

        "    long_name: time\n",

        "    standard_name: time\n",

        "unlimited dimensions: time\n",

        "current shape = (1,)\n",

        "filling on, default _FillValue of -2147483647 used\n",

        "\n"

       ]

      }

     ],

     "prompt_number": 5

    },

    {

     "cell_type": "markdown",

     "metadata": {},

     "source": [

      "Printing an individual variable gives quite a bit more information about the variable than just printing out an overview of the file. This information tends to be directly related to the variable itself. We can see the variable is a 32 bit integer. Since it has a dimension of time, and the time dimension has a size of 1, we expect that the current_shape would be a single dimension of one value. The rest of the attributes are human friendly: you as a human can pretty much figure it out just by looking.\n",

      "\n",

      "Lets check if the contents of the time variable meet our expectations. From the filename, this file contains data for the week of Jan 7-13, 2003. Without being too careful about leap years and such, let's check to see if the time variable contains a number that works out to be about the number of days that would put us in Jan 2003 if we were to start counting on Oct 3, 1966."

     ]

    },

    {

     "cell_type": "code",

     "collapsed": false,

     "input": [

      "print d.variables['time'][0]"

     ],

     "language": "python",

     "metadata": {},

     "outputs": [

      {

       "output_type": "stream",

       "stream": "stdout",

       "text": [

        "13251\n"

       ]

      }

     ],

     "prompt_number": 6

    },

    {

     "cell_type": "markdown",

     "metadata": {},

     "source": [

      "Here for the first time, we've asked for actual data from the file. To get data, you index the variable of interest. In the above, we asked for the first value in the time array (index 0). \n",

      "\n",

      "Now we just have to see if 13251 days puts us in 2003."

     ]

    },

    {

     "cell_type": "code",

     "collapsed": false,

     "input": [

      "full_years = 365.25 * (2002-1966)\n",

      "oct_to_jan = np.sum([(31-3),30,31]) # rest of oct, nov, dec\n",

      "print full_years, full_years + oct_to_jan\n",

      "print d.variables['time'][0] - (full_years + oct_to_jan)"

     ],

     "language": "python",

     "metadata": {},

     "outputs": [

      {

       "output_type": "stream",

       "stream": "stdout",

       "text": [

        "13149.0 13238.0\n",

        "13.0\n"

       ]

      }

     ],

     "prompt_number": 7

    },

    {

     "cell_type": "markdown",

     "metadata": {},

     "source": [

      "Our faith in the ability of computers to count is affirmed. All hail our cyber overlords. The day specified is Jan 13, 2003 plus or minus 1 day for alignment of leap years with our time window.\n",

      "\n",

      "The attributes \"units\", \"standard_name\", and \"axis\" are part of the CF 1.6 convention that the file respects. And since this variable is in the file adhering to CF 1.6, the variable adheres to it too. These attributes have special meanings, and you have to read the convention specification to find out what that meaning is.\n",

      "\n",

      "One more term to remember is \"coordinate variable\". A one dimensional variable that has the same name as it's dimension is a coordinate variable. Hence, the time variable is the only coordinate variable in this file. Coordinate variables are how you translate from unitless grid indices to real values along the axis. In the above, index 0 for the time dimension stands for Jan 13, 2003. This relationship holds for any variable in this file which uses the time dimension."

     ]

    },

    {

     "cell_type": "heading",

     "level": 2,

     "metadata": {},

     "source": [

      "Auxiliary Coordinate Variables"

     ]

    },

    {

     "cell_type": "markdown",

     "metadata": {},

     "source": [

      "Sometimes, the grid cells are not evenly spaced. The latitude and longitude variables for this EASE Grid 2.0 are examples of this. The data are spaced at even 100km intervals in the geospatial projection, which does not translate to nicely gridded lat/lon data. Auxiliary coordinate variables are 2D variables which can be used to lookup the latitude and longitude of any row/col pair."

     ]

    },

    {

     "cell_type": "code",

     "collapsed": false,

     "input": [

      "print d.variables['latitude']"

     ],

     "language": "python",

     "metadata": {},

     "outputs": [

      {

       "output_type": "stream",

       "stream": "stdout",

       "text": [

        "<type 'netCDF4.Variable'>\n",

        "float32 latitude(rows, cols)\n",

        "    _FillValue: -999.0\n",

        "    long_name: latitude of cell center in EASE-Grid-2.0\n",

        "    units: degrees_north\n",

        "    valid_range: [-90.  90.]\n",

        "    standard_name: latitude\n",

        "unlimited dimensions: \n",

        "current shape = (180, 180)\n",

        "filling on\n"

       ]

      }

     ],

     "prompt_number": 8

    },

    {

     "cell_type": "markdown",

     "metadata": {},

     "source": [

      "This variable stores the latitude of each grid cell. The fact that \"units\" is \"degrees_north\" and/or the value \"latitude\" for the standard_name attribute may be used to determine that this is an auxiliary coordinate variable, and it contains the latitude values. The name of the variable is not special. It could be called 'i_do_not_contain_latitudes', but if one or more of the special attributes contained the magic latitude-indicating values, it would still be interpreted as latitudes.\n",

      "\n",

      "Let's see what's inside."

     ]

    },

    {

     "cell_type": "code",

     "collapsed": false,

     "input": [

      "print d.variables['latitude'][0,0]"

     ],

     "language": "python",

     "metadata": {},

     "outputs": [

      {

       "output_type": "stream",

       "stream": "stdout",

       "text": [

        "--\n"

       ]

      }

     ],

     "prompt_number": 9

    },

    {

     "cell_type": "markdown",

     "metadata": {},

     "source": [

      "Because this is a 2D variable, we had to provide a 2D index. The -- means that the latitude value at index [0,0] is nodata. The EASE Grid is a polar projection which looks more or less like a circle. The corners don't have data, so we really should have expected this. While we're here, let's load the whole latitude array into memory because it's small. "

     ]

    },

    {

     "cell_type": "code",

     "collapsed": false,

     "input": [

      "lats = d.variables['latitude'][:]\n",

      "print lats.shape"

     ],

     "language": "python",

     "metadata": {},

     "outputs": [

      {

       "output_type": "stream",

       "stream": "stdout",

       "text": [

        "(180L, 180L)\n"

       ]

      }

     ],

     "prompt_number": 10

    },

    {

     "cell_type": "markdown",

     "metadata": {},

     "source": [

      "This gives us a new variable called \"lats\". It has a copy of the values that were in the file. All 180x180 of them. Changing the values in the \"lats\" variable does not change the values in the file itself.  We used a technique called \"slicing\" (e.g., a colon instead of an index) to load in the values we wanted. Normally, you say [min_index:max_index] if you want to specify a subset. The default value of min_index is the first array value, and the default value of max_index is the last array value. In this case, we wanted everything, so we left out both the min and the max, allowing both to take on their default values. \n",

      "\n",

      "There's actually a little bit more than this going on since we're talking about a 2D array, but that is out of scope for this notebook. Slicing is a powerful python technique which you need to spend some brain cells on. Go forth and learn.\n"

     ]

    },

    {

     "cell_type": "heading",

     "level": 2,

     "metadata": {},

     "source": [

      "Masked Arrays"

     ]

    },

    {

     "cell_type": "markdown",

     "metadata": {},

     "source": [

      "In this case, the python variable \"lats\" is what's known as a masked array. The netcdf library automatically masked out the nodata values for us, which is why we just saw a '--' above when we printed out the latitude value of the corner. Masked arrays are a combination of a boolean (True/False) mask, and the values. If the mask flag for a cell is true, the cell is considered to contain \"nodata\". So let's revisit that masked out corner."

     ]

    },

    {

     "cell_type": "code",

     "collapsed": false,

     "input": [

      "print \"The mask is: \", lats.mask[0,0]\n",

      "print \"The data value is: \", lats.data[0,0]"

     ],

     "language": "python",

     "metadata": {},

     "outputs": [

      {

       "output_type": "stream",

       "stream": "stdout",

       "text": [

        "The mask is:  True\n",

        "The data value is:  -999.0\n"

       ]

      }

     ],

     "prompt_number": 11

    },

    {

     "cell_type": "markdown",

     "metadata": {},

     "source": [

      "If you scroll back up, the fill value in the netCDF file was -999. So you can see that python is making things a little nicer for you in that you don't have to always check to see if the grid cell contains the fill value/nodata value.\n",

      "\n",

      "Let's set the corner value to something and then mask it back out."

     ]

    },

    {

     "cell_type": "code",

     "collapsed": false,

     "input": [

      "lats[0,0] = 42.\n",

      "print lats[0,0]\n",

      "print \"The mask is: \", lats.mask[0,0]\n",

      "print \"The data value is: \", lats.data[0,0]"

     ],

     "language": "python",

     "metadata": {},

     "outputs": [

      {

       "output_type": "stream",

       "stream": "stdout",

       "text": [

        "42.0\n",

        "The mask is:  False\n",

        "The data value is:  42.0\n"

       ]

      }

     ],

     "prompt_number": 12

    },

    {

     "cell_type": "code",

     "collapsed": false,

     "input": [

      "# ... and set it back\n",

      "lats[0,0] = np.ma.masked\n",

      "print lats[0,0]\n",

      "print \"The mask is: \", lats.mask[0,0]\n",

      "print \"The data value is: \", lats.data[0,0]"

     ],

     "language": "python",

     "metadata": {},

     "outputs": [

      {

       "output_type": "stream",

       "stream": "stdout",

       "text": [

        "--\n",

        "The mask is:  True\n",

        "The data value is:  42.0\n"

       ]

      }

     ],

     "prompt_number": 13

    },

    {

     "cell_type": "markdown",

     "metadata": {},

     "source": [

      "Whoops! It masked the value out for us all right, but it didn't change the value back to -999. Keep this in mind. Depending on your situation, it might be important. You can explicitly set the value by using the \"data\" attribute. "

     ]

    },

    {

     "cell_type": "code",

     "collapsed": false,

     "input": [

      "lats.data[0,0] = -999.0\n",

      "print lats[0,0]\n",

      "print \"The mask is: \", lats.mask[0,0]\n",

      "print \"The data value is: \", lats.data[0,0]"

     ],

     "language": "python",

     "metadata": {},

     "outputs": [

      {

       "output_type": "stream",

       "stream": "stdout",

       "text": [

        "--\n",

        "The mask is:  True\n",

        "The data value is:  -999.0\n"

       ]

      }

     ],

     "prompt_number": 14

    },

    {

     "cell_type": "heading",

     "level": 2,

     "metadata": {},

     "source": [

      "Variables...finally"

     ]

    },

    {

     "cell_type": "markdown",

     "metadata": {},

     "source": [

      "So far we have explored a whole lot of nothing useful. We know where each grid cell is, but (in this case) not whether they are covered in snow. We want to know whether they are covered in snow, so we use the non-coordinate-variable, non-auxiliary-coordinate-variable called \"merged_snow_cover_extent\". We will create a python variable as a shorthand to the data in the file, but we're not going to give a slicing expression. Without the slicing expression, python won't copy the data into memory from the file."

     ]

    },

    {

     "cell_type": "code",

     "collapsed": false,

     "input": [

      "snow = d.variables['merged_snow_cover_extent']\n",

      "print snow"

     ],

     "language": "python",

     "metadata": {},

     "outputs": [

      {

       "output_type": "stream",

       "stream": "stdout",

       "text": [

        "<type 'netCDF4.Variable'>\n",

        "int8 merged_snow_cover_extent(time, rows, cols)\n",

        "    flag_meanings: cdr_microwave_report_snow cdr_only_reports_snow microwave_only_reports_snow snow_free_land permanent_ice ocean\n",

        "    flag_values: [10 11 12 20 30 40]\n",

        "    _FillValue: -99\n",

        "    comment: 10: Snow cover reported by weekly_cdr, passive_microwave, 11: Snow cover reported by weekly_cdr only,  12: Snow cover reported by passive_microwave only, 20: Snow free land, 30: Permanent ice covered land, 40: Ocean\n",

        "    valid_range: [10 40]\n",

        "    coordinates: longitude latitude time\n",

        "    long_name: Merged Snow Cover Extent\n",

        "    grid_mapping: coord_system\n",

        "unlimited dimensions: time\n",

        "current shape = (1, 180, 180)\n",

        "filling on\n"

       ]

      }

     ],

     "prompt_number": 15

    },

    {

     "cell_type": "markdown",

     "metadata": {},

     "source": [

      "See how the above behaved as if we typed \"print d.variables['merged_snow_cover_extent']\"? Now we can be lazy and just type \"print snow\" instead. You can still specify an index and get the data, but this time you are not working with a copy that resides in memory. Remember we did not explicitly ask python to copy all the data out of the file into a variable. Ergo, if you try and assign different values to cells in the \"snow\" variable, it will try to change the values in the file. In this case, we opened the file read-only (which is the default), so changing the value would fail."

     ]

    },

    {

     "cell_type": "code",

     "collapsed": false,

     "input": [

      "print snow[0,0,0]"

     ],

     "language": "python",

     "metadata": {},

     "outputs": [

      {

       "output_type": "stream",

       "stream": "stdout",

       "text": [

        "--\n"

       ]

      }

     ],

     "prompt_number": 16

    },

    {

     "cell_type": "markdown",

     "metadata": {},

     "source": [

      "??! A 3D variable? Tricky. You can handle this by now, and you should be able to tell what order the coordinates go in by looking above.\n",

      "\n",

      "So what happens if we try to change the values in the snow variable? "

     ]

    },

    {

     "cell_type": "code",

     "collapsed": false,

     "input": [

      "snow[0,0,0] = 42"

     ],

     "language": "python",

     "metadata": {},

     "outputs": [

      {

       "ename": "RuntimeError",

       "evalue": "NetCDF: HDF error",

       "output_type": "pyerr",

       "traceback": [

        "\u001b[1;31m---------------------------------------------------------------------------\u001b[0m\n\u001b[1;31mRuntimeError\u001b[0m                              Traceback (most recent call last)",

        "\u001b[1;32m<ipython-input-17-9e133be73ced>\u001b[0m in \u001b[0;36m<module>\u001b[1;34m()\u001b[0m\n\u001b[1;32m----> 1\u001b[1;33m \u001b[0msnow\u001b[0m\u001b[1;33m[\u001b[0m\u001b[1;36m0\u001b[0m\u001b[1;33m,\u001b[0m\u001b[1;36m0\u001b[0m\u001b[1;33m,\u001b[0m\u001b[1;36m0\u001b[0m\u001b[1;33m]\u001b[0m \u001b[1;33m=\u001b[0m \u001b[1;36m42\u001b[0m\u001b[1;33m\u001b[0m\u001b[0m\n\u001b[0m",

        "\u001b[1;32mC:\\Users\\bnordgren\\AppData\\Local\\Enthought\\Canopy\\User\\lib\\site-packages\\netCDF4.pyd\u001b[0m in \u001b[0;36mnetCDF4.Variable.__setitem__ (netCDF4.c:40585)\u001b[1;34m()\u001b[0m\n",

        "\u001b[1;32mC:\\Users\\bnordgren\\AppData\\Local\\Enthought\\Canopy\\User\\lib\\site-packages\\netCDF4.pyd\u001b[0m in \u001b[0;36mnetCDF4.Variable._put (netCDF4.c:41927)\u001b[1;34m()\u001b[0m\n",

        "\u001b[1;31mRuntimeError\u001b[0m: NetCDF: HDF error"

       ]

      }

     ],

     "prompt_number": 17

    },

    {

     "cell_type": "markdown",

     "metadata": {},

     "source": [

      "This translates roughly as \"Thou shalt not try to write to a file you opened as read only.\" Fear not the crappy error message. Just understand that when we created the \"snow\" variable in python, we essentially told python to treat the snow variable as a handle to the data on disk. Trying to set values in the snow variable attempts to write the new values to the file...which it can't do if the file has been opened for reading only.\n",

      "\n",

      "Now, one final thing: the coordinates attribute lists the (auxiliary) coordinate variables which contain the location information in each cell. The CF 1.6 standard requires that the lat/lon of each cell be provided if the lat/lons are not evenly spaced out. "

     ]

    },

    {

     "cell_type": "heading",

     "level": 2,

     "metadata": {},

     "source": [

      "Projection information"

     ]

    },

    {

     "cell_type": "markdown",

     "metadata": {},

     "source": [

      "If you look above where we printed out the snow variable, you should see a \"grid_mapping\" attribute. This is another one of those attributes specified by CF-1.6. It contains the name of a dummy variable which describes the projection in which the data are presented. It's a dummy variable because it contains no data values, it serves only as a container for a bunch of descriptive attributes....all of which are described by CF-1.6. The snow variable declares that its projection information is contained in the \"coord_system\" dummy variable, so let's take a look. "

     ]

    },

    {

     "cell_type": "code",

     "collapsed": false,

     "input": [

      "coords = d.variables['coord_system']\n",

      "print coords"

     ],

     "language": "python",

     "metadata": {},

     "outputs": [

      {

       "output_type": "stream",

       "stream": "stdout",

       "text": [

        "<type 'netCDF4.Variable'>\n",

        "|S1 coord_system()\n",

        "    comment: EASE-Grid-2.0 projection definition documention: http://nsidc.org/data/ease/ease_grid2.html, NSIDC mapx grid parameter definition file: EASE2_N100km.gpd, grid_id: EASE2_N100km\n",

        "    grid_mapping_name: lambert_azimuthal_equal_area\n",

        "    longitude_of_projection_origin: 0.0\n",

        "    latitude_of_projection_origin: 90.0\n",

        "    false_easting: 0.0\n",

        "    false_northing: 0.0\n",

        "    scale_factor_at_projection_origin: 25\n",

        "    semimajor_axis: 6.37814e+06\n",

        "    semiminor_axis: 6.35675e+06\n",

        "    inverse_flattening: 298.257\n",

        "unlimited dimensions: \n",

        "current shape = ()\n",

        "filling on, default _FillValue of \u0000 used\n",

        "\n"

       ]

      }

     ],

     "prompt_number": 18

    },

    {

     "cell_type": "markdown",

     "metadata": {},

     "source": [

      "The only parameter that a variable pointed to by a \"grid_mapping\" attribute must have is \"grid_mapping_name\". These names select the projection and are defined in http://cfconventions.org/Data/cf-conventions/cf-conventions-1.6/build/cf-conventions.html#appendix-grid-mappings.  The other attributes define the parameters of the projection, which of course may vary from projection to projection. The parameters of the sphereoid may appear regardless of the projection selected. \n",

      "\n",

      "This information gives enough information to calculate projected coordinates given lat/lon, or vice-versa. You will want to use pre-written library code for that."

     ]

    },

    {

     "cell_type": "heading",

     "level": 2,

     "metadata": {},

     "source": [

      "Summary"

     ]

    },

    {

     "cell_type": "markdown",

     "metadata": {},

     "source": [

      "Here is what we've discovered so far: \n",

      "\n",

      "* Grid cells are regularly spaced in projected coordinates.\n",

      "* Latitude/Longitude do not comprise a regular grid.\n",

      "* There are no coordinate variables (1d) to describe rows and cols.\n",

      "* Auxiliary coordinate variables (2d) are identified in the \"coordinates\" attribute, and tie each grid cell to a set of lat/lon coordinates.\n",

      "* The names of the auxiliary coordinate variables are not special: latitude and longitude are identified by matching the \"units\" to accepted values.\n",

      "* Variables containing geolocated data refer to their spatial reference system by placing the name of a variable in the \"grid_mapping\" attribute. This variable has a series of attributes which describe the spatial reference system.\n"

     ]

    },

    {

     "cell_type": "heading",

     "level": 1,

     "metadata": {},

     "source": [

      "So why isn't it working?"

     ]

    },

    {

     "cell_type": "markdown",

     "metadata": {},

     "source": [

      "The big thing that is missing is a simple translation between rows/cols and locations in the projected coordinates. Presumably, once we provide this, other programs will start to grok the NetCDF file, or we can export to a different format like geotiff. Specifically, the most likely reason that the projection is not being read is that the file technically violates the CF 1.6 specification. When the projection is Lambert Azimuthal Equal Area, the spec says \"The x (abscissa) and y (ordinate) rectangular coordinates are identified by the standard_name attribute values projection_x_coordinate and projection_y_coordinate respectively.\" \n",

      "\n",

      "So, software designed to the specification is expecting coordinate variables for rows and cols, and will be looking for these variables to be tagged as \"projection_x_coordinate\" and \"projection_y_coordinate\". As noted above, these variables are entirely missing. It is possible that if they are provided, the software may start working."

     ]

    },

    {

     "cell_type": "heading",

     "level": 2,

     "metadata": {},

     "source": [

      "Calculating projected coordinates"

     ]

    },

    {

     "cell_type": "markdown",

     "metadata": {},

     "source": [

      "We are going to assume that the relationship between the grid cell indices and the projected coordinates is linear, that the axes are orthogonal, and the (i,j) grid cell axes are not rotated with respect to the axes of the projected coordinate system. We will only generalize to this more complex scenario if our assumptions turn out to be false.\n",

      "\n",

      "We need to find two points which have lat/lon data, these two points should be as far apart as possible, and the points should not be in the same column or row."

     ]

    },

    {

     "cell_type": "code",

     "collapsed": false,

     "input": [

      "unmasked_ij = np.where(np.logical_not(lats.mask))\n",

      "indices = zip(*unmasked_ij)\n",

      "first = indices[0]\n",

      "last = indices[-1]\n",

      "print \"First: \", first\n",

      "print \"Last: \", last"

     ],

     "language": "python",

     "metadata": {},

     "outputs": [

      {

       "output_type": "stream",

       "stream": "stdout",

       "text": [

        "First:  (0, 80)\n",

        "Last:  (179, 99)\n"

       ]

      }

     ],

     "prompt_number": 19

    },

    {

     "cell_type": "code",

     "collapsed": false,

     "input": [

      "lons = d.variables['longitude']"

     ],

     "language": "python",

     "metadata": {},

     "outputs": [],

     "prompt_number": 20

    },

    {

     "cell_type": "code",

     "collapsed": false,

     "input": [

      "print \"First: \", lats[first], lons[first]\n",

      "print \"Last: \", lats[last], lons[last]"

     ],

     "language": "python",

     "metadata": {},

     "outputs": [

      {

       "output_type": "stream",

       "stream": "stdout",

       "text": [

        "First:  0.123689 -173.941\n",

        "Last:  0.123689 6.05899\n"

       ]

      }

     ],

     "prompt_number": 21

    },

    {

     "cell_type": "markdown",

     "metadata": {},

     "source": [

      "If we were trying to get a simple linear fit from rows/cols to lat/lon, this would be a problem. However, we know this is not possible so let's take these lat/lons and calculate the projected coordinates. We will be using Proj.4. (http://trac.osgeo.org/proj/)  The first step is to get the parameter values for the projection from the coord_system variable. \n",

      "\n",

      "We have not yet done this. We've printed the values and looked at them, but we are now moving into the realm of having the computer fetch specific values and use them automatically. Getting the value of an attribute in the netCDF file is accomplished exactly as if it were an attribute of a python variable: "

     ]

    },

    {

     "cell_type": "code",

     "collapsed": false,

     "input": [

      "#remember that coords is the python variable referring to the \"coord_system\" netcdf variable.\n",

      "lat_0 = coords.latitude_of_projection_origin \n",

      "lon_0 = coords.longitude_of_projection_origin\n",

      "false_e = coords.false_easting\n",

      "false_n = coords.false_northing\n",

      "s_major = coords.semimajor_axis \n",

      "s_minor = coords.semiminor_axis"

     ],

     "language": "python",

     "metadata": {},

     "outputs": [],

     "prompt_number": 22

    },

    {

     "cell_type": "markdown",

     "metadata": {},

     "source": [

      "Now we make a projection object. It's just a handy way to carry around a description of which projection equations to use, and what the parameters are."

     ]

    },

    {

     "cell_type": "code",

     "collapsed": false,

     "input": [

      "the_proj = pyproj.Proj(proj=\"laea\", lat_0=lat_0, lon_0=lon_0, x_0=false_e, y_0=false_n, a=s_major, b=s_minor)\n",

      "geo      = pyproj.Proj(proj=\"latlong\", a=s_major, b=s_minor)"

     ],

     "language": "python",

     "metadata": {},

     "outputs": [],

     "prompt_number": 23

    },

    {

     "cell_type": "markdown",

     "metadata": {},

     "source": [

      "Now we can compute the projected coordinates for the lat/lon coordinates of the two points."

     ]

    },

    {

     "cell_type": "code",

     "collapsed": false,

     "input": [

      "x1,y1 = pyproj.transform(geo,the_proj, lons[first], lats[first])\n",

      "x2,y2 = pyproj.transform(geo,the_proj, lons[last], lats[last])"

     ],

     "language": "python",

     "metadata": {},

     "outputs": [],

     "prompt_number": 24

    },

    {

     "cell_type": "heading",

     "level": 2,

     "metadata": {},

     "source": [

      "Construct the linear fits"

     ]

    },

    {

     "cell_type": "markdown",

     "metadata": {},

     "source": [

      "So, it's now a matter of making a linear fit for x and a linear fit for y."

     ]

    },

    {

     "cell_type": "code",

     "collapsed": false,

     "input": [

      "# it's (rows,cols), so index[1]==column \n",

      "m_x = (x2-x1)/(last[1]-first[1])\n",

      "b_x = x1 - (m_x*first[1])\n",

      "print x2, last[1]*m_x+b_x"

     ],

     "language": "python",

     "metadata": {},

     "outputs": [

      {

       "output_type": "stream",

       "stream": "stdout",

       "text": [

        "950000.167584 950000.167584\n"

       ]

      }

     ],

     "prompt_number": 25

    },

    {

     "cell_type": "markdown",

     "metadata": {},

     "source": [

      "Woo hoo the fit for x seems to work. Now on to y."

     ]

    },

    {

     "cell_type": "code",

     "collapsed": false,

     "input": [

      "# it's (rows,cols) so index[0]==rows\n",

      "m_y = (y2-y1)/(last[0]-first[0])\n",

      "b_y = y1 -(m_y*first[0])\n",

      "print y2, last[0]*m_y+b_y"

     ],

     "language": "python",

     "metadata": {},

     "outputs": [

      {

       "output_type": "stream",

       "stream": "stdout",

       "text": [

        "-8950001.73729 -8950001.73729\n"

       ]

      }

     ],

     "prompt_number": 26

    },

    {

     "cell_type": "markdown",

     "metadata": {},

     "source": [

      "Just to doublecheck, we know that the data set is on a 100km grid, so m_x and m_y should both be 100000."

     ]

    },

    {

     "cell_type": "code",

     "collapsed": false,

     "input": [

      "print m_x, m_y"

     ],

     "language": "python",

     "metadata": {},

     "outputs": [

      {

       "output_type": "stream",

       "stream": "stdout",

       "text": [

        "100000.041162 -100000.019146\n"

       ]

      }

     ],

     "prompt_number": 27

    },

    {

     "cell_type": "markdown",

     "metadata": {},

     "source": [

      "Close enough for me."

     ]

    },

    {

     "cell_type": "heading",

     "level": 2,

     "metadata": {},

     "source": [

      "Create the coordinate variables..."

     ]

    },

    {

     "cell_type": "markdown",

     "metadata": {},

     "source": [

      "Python, specifically the \"numpy\" library, makes it easy to write equations which manipulate entire arrays of data. Usually, the equation is applied to each element of the input array and produces a corresponding output array. Numpy is well worth learning.\n",

      "\n",

      "In the following, the function \"np.arange\" generates an array containing the numbers 0, 1, 2, ... {n-1}, where n is either the number of rows or cols. This entire array is transformed with the linear fit we produced above, yielding the projected x/y coordinates for each row and column."

     ]

    },

    {

     "cell_type": "code",

     "collapsed": false,

     "input": [

      "cv_rows = m_x * np.arange(len(d.dimensions['rows'])) + b_x\n",

      "cv_cols = m_y * np.arange(len(d.dimensions['cols'])) + b_y"

     ],

     "language": "python",

     "metadata": {},

     "outputs": [],

     "prompt_number": 28

    },

    {

     "cell_type": "markdown",

     "metadata": {},

     "source": [

      "Now we need to store these new coordinate variables in the file and add the expected attributes. To do so, we need to close the netcdf file and open it again for writing. Make sure we open for read/write! Opening just for write will try to delete the existing file so you have a nice clean slate."

     ]

    },

    {

     "cell_type": "code",

     "collapsed": false,

     "input": [

      "# first, close the current file\n",

      "d.close()\n",

      "# now open again for writing\n",

      "d = nc.Dataset('nhtsw100e2_20030107_20030113.nc', 'r+')"

     ],

     "language": "python",

     "metadata": {},

     "outputs": [],

     "prompt_number": 29

    },

    {

     "cell_type": "markdown",

     "metadata": {},

     "source": [

      "Creating variables in netcdf is pretty simple. You just need to specify the variable name, the data type, and a list of dimensions as strings. Coordinate variables are super simple because the name of the variable is the same as the name of the only dimension they have."

     ]

    },

    {

     "cell_type": "code",

     "collapsed": false,

     "input": [

      "# make the rows coordinate variable\n",

      "# note the variable name is the same as the dimension name\n",

      "rows_var = d.createVariable('rows',np.float32, ('rows',))\n",

      "\n",

      "# give it the expected attributes\n",

      "rows_var.standard_name = 'projection_y_coordinate'\n",

      "rows_var.axis          = 'Y'\n",

      "rows_var.units         = 'meters'\n",

      "\n",

      "# write the values to the variable\n",

      "rows_var[:] = cv_rows"

     ],

     "language": "python",

     "metadata": {},

     "outputs": [],

     "prompt_number": 30

    },

    {

     "cell_type": "code",

     "collapsed": false,

     "input": [

      "# make the cols coordinate variable\n",

      "# note the variable name is the same as the dimension name\n",

      "cols_var = d.createVariable('cols',np.float32, ('cols',))\n",

      "\n",

      "# give it the expected attributes\n",

      "cols_var.standard_name = 'projection_x_coordinate'\n",

      "cols_var.axis          = 'X'\n",

      "cols_var.units         = 'meters'\n",

      "\n",

      "# write the values to the variable\n",

      "cols_var[:] = cv_cols"

     ],

     "language": "python",

     "metadata": {},

     "outputs": [],

     "prompt_number": 31

    },

    {

     "cell_type": "code",

     "collapsed": false,

     "input": [

      "#close the file to make sure everything is written\n",

      "d.close()"

     ],

     "language": "python",

     "metadata": {},

     "outputs": [],

     "prompt_number": 32

    },

    {

     "cell_type": "markdown",

     "metadata": {},

     "source": [

      "Poof. GDAL works now: \n",

      "\n",

      "    [fedora@lugosi ~]$ gdalinfo NETCDF:nhtsw100e2_20030107_20030113.nc:merged_snow_cover_extent\n",

      "    Driver: netCDF/Network Common Data Format\n",

      "    Files: nhtsw100e2_20030107_20030113.nc\n",

      "    Size is 180, 180\n",

      "    Coordinate System is:\n",

      "    PROJCS[\"LAEA (WGS84) \",\n",

      "        GEOGCS[\"WGS 84\",\n",

      "            DATUM[\"WGS_1984\",\n",

      "                SPHEROID[\"WGS 84\",6378137,298.257223563,\n",

      "                    AUTHORITY[\"EPSG\",\"7030\"]],\n",

      "                TOWGS84[0,0,0,0,0,0,0],\n",

      "                AUTHORITY[\"EPSG\",\"6326\"]],\n",

      "            PRIMEM[\"Greenwich\",0,\n",

      "                AUTHORITY[\"EPSG\",\"8901\"]],\n",

      "            UNIT[\"degree\",0.0174532925199433,\n",

      "                AUTHORITY[\"EPSG\",\"9108\"]],\n",

      "            AUTHORITY[\"EPSG\",\"4326\"]],\n",

      "        PROJECTION[\"Lambert_Azimuthal_Equal_Area\"],\n",

      "        PARAMETER[\"latitude_of_center\",90],\n",

      "        PARAMETER[\"longitude_of_center\",0],\n",

      "        PARAMETER[\"false_easting\",0],\n",

      "        PARAMETER[\"false_northing\",0]]\n",

      "        \n"

     ]

    },

    {

     "cell_type": "heading",

     "level": 2,

     "metadata": {},

     "source": [

      "Geotiffs via gdal_translate"

     ]

    },

    {

     "cell_type": "markdown",

     "metadata": {},

     "source": [

      "Because gdal is now detecting the spatial reference system, one can use it to convert the variables to geotiff. But we are not quite done. Remember the slope of the line fit between \"cols\" and the projected y coordinate? It was negative, right? "

     ]

    },

    {

     "cell_type": "code",

     "collapsed": false,

     "input": [

      "print m_y"

     ],

     "language": "python",

     "metadata": {},

     "outputs": [

      {

       "output_type": "stream",

       "stream": "stdout",

       "text": [

        "-100000.019146\n"

       ]

      }

     ],

     "prompt_number": 33

    },

    {

     "cell_type": "markdown",

     "metadata": {},

     "source": [

      "Yup. Negative. That means row zero translates to the biggest projected Y value and row 179 translates to the smallest projected Y value. So row 0 starts at the top and works its way down. The netcdf driver for gdal tries to detect whether the rows are top-down or bottom up, but sometimes it doesn't. Our data set is one of the lucky winners.\n",

      "\n",

      "Configuration options from http://www.gdal.org/frmt_netcdf.html:  \n",

      "\n",

      "> **GDAL_NETCDF_BOTTOMUP**=[YES/NO] : Set the y-axis order for import, overriding the order detected by the driver. This option is usually not needed unless a specific dataset is causing problems (which should be reported in GDAL trac).\n",

      "\n",

      "In this case, gdal 1.11.1 autodetects a bottom-up dataset when it should be top down, so we must override. The working conversion command for gdal_translate is as follows: \n",

      "     \n",

      "    gdal_translate -of GTiff -b 1 --config GDAL_NETCDF_BOTTOMUP NO \\\n",

      "        NETCDF:nhtsw100e2_20030107_20030113:merged_snow_cover_extent snowcover.tif"

     ]

    },

    {

     "cell_type": "heading",

     "level": 1,

     "metadata": {},

     "source": [

      "Looking at the hard won data"

     ]

    },

    {

     "cell_type": "markdown",

     "metadata": {},

     "source": [

      "Here we view the data in the file. First, we don't do anything special, just dump it to the screen exactly as it exists in the file."

     ]

    },

    {

     "cell_type": "code",

     "collapsed": false,

     "input": [

      "d = nc.Dataset('nhtsw100e2_20030107_20030113.nc')\n",

      "snow = d.variables['merged_snow_cover_extent'][:]\n",

      "lats = d.variables['latitude'][:]\n",

      "lons = d.variables['longitude'][:]\n",

      "imshow(snow[0,...])"

     ],

     "language": "python",

     "metadata": {},

     "outputs": [

      {

       "metadata": {},

       "output_type": "pyout",

       "prompt_number": 34,

       "text": [

        "<matplotlib.image.AxesImage at 0xa089ac8>"

       ]

      },

      {

       "metadata": {},

       "output_type": "display_data",

       "png": "[encoded data removed]",

       "text": [

        "<matplotlib.figure.Figure at 0xa066710>"

       ]

      }

     ],

     "prompt_number": 34

    },

    {

     "cell_type": "markdown",

     "metadata": {},

     "source": [

      "That's great, but we don't really have any indication that the georeferencing worked. The axes are strictly (i,j) without any physical meaning. In fact, we could have done this right off the bat, without fixing anything. What we really want to do is draw a quick map with crude coastlines and some lat/lon lines."

     ]

    },

    {

     "cell_type": "code",

     "collapsed": false,

     "input": [

      "def init_basemap() : \n",

      "\n",

      "    m = Basemap(width=100000*180, height=100000*180,\n",

      "            #llcrnrx=cv_cols[0], llcrnry=cv_rows[-1], urcrnrx=cv_cols[-1], urcrnry=cv_rows[0],\n",

      "            resolution='l', projection='laea',\n",

      "            lon_0=lon_0, lat_0=lat_0)\n",

      "    m.drawcoastlines()\n",

      "    m.drawcountries()\n",

      "    m.drawmeridians(np.arange(-180.,180.,20.),labels=[False,False,False,True])\n",

      "    m.drawparallels(np.arange(10.,80.,20.), labels=[True,False,False,False])\n",

      "    return m"

     ],

     "language": "python",

     "metadata": {},

     "outputs": [],

     "prompt_number": 35

    },

    {

     "cell_type": "markdown",

     "metadata": {},

     "source": [

      "The basic strategy is to use the map template above by calling \"init_basemap\", then draw the data on it. The data are drawn using \"filled contours\" between the data points. This may or may not be what we want."

     ]

    },

    {

     "cell_type": "code",

     "collapsed": false,

     "input": [

      "figsize(12,10)\n",

      "m = init_basemap()\n",

      "c = m.contourf(lons[:], lats[:],\n",

      "               snow[0,...], 20, latlon=True)\n",

      "cb = m.colorbar(c)\n",

      "title(\"Snow cover, 13 Jan 2003\")\n"

     ],

     "language": "python",

     "metadata": {},

     "outputs": [

      {

       "metadata": {},

       "output_type": "pyout",

       "prompt_number": 36,

       "text": [

        "<matplotlib.text.Text at 0xa7809e8>"

       ]

      },

      {

       "metadata": {},

       "output_type": "display_data",

       "png": "[encoded data removed]",

       "text": [

        "<matplotlib.figure.Figure at 0xa085c18>"

       ]

      }

     ],

     "prompt_number": 36

    },

    {

     "cell_type": "markdown",

     "metadata": {},

     "source": [

      "As shown, the data values line up with the coastlines, so it appears that the georeferencing worked just fine. "

     ]

    }

   ],

   "metadata": {}

  }

 ]

}